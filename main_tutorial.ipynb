{
 "cells": [
  {
   "cell_type": "code",
   "execution_count": 1,
   "id": "130bbfaa",
   "metadata": {},
   "outputs": [],
   "source": [
    "import pandas as pd"
   ]
  },
  {
   "cell_type": "code",
   "execution_count": 2,
   "id": "83bb7ac5",
   "metadata": {},
   "outputs": [],
   "source": [
    "## Create a Basic DataFrame\n",
    "df = pd.DataFrame([[1,2,3],[4,5,6],[7,8,9],[10,11,12]], \n",
    "                  columns=[\"A\", \"B\", \"C\"],\n",
    "                  index=[\"x\", \"Y\", \"Z\", \"BA\"])\n"
   ]
  },
  {
   "cell_type": "code",
   "execution_count": 3,
   "id": "a78b78a1",
   "metadata": {},
   "outputs": [
    {
     "data": {
      "text/plain": [
       "12"
      ]
     },
     "execution_count": 3,
     "metadata": {},
     "output_type": "execute_result"
    }
   ],
   "source": [
    "## Some useful functions about dataframes\n",
    "\n",
    "df.head() # Show the first 5 rows\n",
    "# df.head(2) # first 2 rows\n",
    "# df.tail(2) # last 2 rows\n",
    "# df.columns # Show the column names\n",
    "# df.index # Show the row names\n",
    "# df.info() # Show info such as the columns and their types\n",
    "# statsDf = df.describe() # Means, maxes, stats, etc\n",
    "# display(statsDf)\n",
    "# display(df.head())\n",
    "\n",
    "# # Columns and unique Values\n",
    "# A = df['A']\n",
    "# uVals = A.unique()\n",
    "# display(A)\n",
    "# display(type(A))\n",
    "# display(uVals)\n",
    "\n",
    "df.shape # (rows,cols)\n",
    "df.size # Total Number of elements\n"
   ]
  },
  {
   "cell_type": "code",
   "execution_count": null,
   "id": "31b0772c",
   "metadata": {},
   "outputs": [],
   "source": [
    "## Read from a parquet\n",
    "# results = pd.read_parquet('./data/results.parquet')\n",
    "# results.to_parquet"
   ]
  },
  {
   "cell_type": "code",
   "execution_count": null,
   "id": "6a175628",
   "metadata": {},
   "outputs": [],
   "source": [
    "## Read excel\n",
    "# olympics_data = pd.read_excel('./data/olympics-data.xlsx', sheet_name='results')\n",
    "# olympics_data.to_excel()\n"
   ]
  },
  {
   "cell_type": "code",
   "execution_count": 95,
   "id": "8a4f5b1a",
   "metadata": {},
   "outputs": [],
   "source": [
    "## Loading from a CSV File\n",
    "coffee = pd.read_csv('./warmup-data/coffee.csv')\n",
    "# # coffee.to_parquet(path=\"./check.parquet\") # Save it"
   ]
  },
  {
   "cell_type": "code",
   "execution_count": null,
   "id": "4d0a16f3",
   "metadata": {},
   "outputs": [
    {
     "data": {
      "text/plain": [
       "0        Monday\n",
       "1        Monday\n",
       "2       Tuesday\n",
       "3       Tuesday\n",
       "4     Wednesday\n",
       "5     Wednesday\n",
       "6      Thursday\n",
       "7      Thursday\n",
       "8        Friday\n",
       "9        Friday\n",
       "10     Saturday\n",
       "11     Saturday\n",
       "12       Sunday\n",
       "13       Sunday\n",
       "Name: Day, dtype: object"
      ]
     },
     "execution_count": 79,
     "metadata": {},
     "output_type": "execute_result"
    }
   ],
   "source": [
    "## Accessing Data \n",
    "# coffee.sample(3, random_state=2) # Get some random rows (repeatable with random_state)\n",
    "coffee.loc[:, [\"Day\", \"Units Sold\"]] # Loc returns just the rows and cols that you want\n",
    "coffee.iloc[:,1] # Allows you to use integer based indexing \n",
    "coffee.Day # Grab a single column\n",
    "# coffee.index = coffee.Day # Set the index\n",
    "# coffee\n",
    "\n",
    "\n",
    "# Note that for single values you can use iat or at, for slightly better performance..."
   ]
  },
  {
   "cell_type": "code",
   "execution_count": 94,
   "id": "2a59d296",
   "metadata": {},
   "outputs": [
    {
     "data": {
      "text/plain": [
       "np.int64(20)"
      ]
     },
     "execution_count": 94,
     "metadata": {},
     "output_type": "execute_result"
    }
   ],
   "source": [
    "## Setting various bits of data\n",
    "coffee.loc[0,\"Units Sold\"] # has value of 25\n",
    "coffee.loc[0:2,'Units Sold'] = 20 #Now it has a value of 20\n",
    "coffee.loc[0,'Units Sold']\n"
   ]
  },
  {
   "cell_type": "code",
   "execution_count": null,
   "id": "8cd09b2a",
   "metadata": {},
   "outputs": [],
   "source": [
    "## More Useful functions\n",
    "coffee.sort_values([\"Coffee Type\", \"Units Sold\"], ascending=[False, True])\n",
    "coffee['Coffee Type'].unique()\n",
    "\n",
    "# If you need to loop through\n",
    "# Note that this is not very efficient.  Try to stick to built in pandas methods\n",
    "for idx, row in coffee.iterrows():\n",
    "    print(f\"{idx} {row}\\n\")"
   ]
  },
  {
   "cell_type": "code",
   "execution_count": null,
   "id": "339d5be5",
   "metadata": {},
   "outputs": [],
   "source": [
    "## Load more Data\n",
    "bios = pd.read_csv('./data/bios.csv')"
   ]
  },
  {
   "cell_type": "code",
   "execution_count": 199,
   "id": "87d639a9",
   "metadata": {},
   "outputs": [
    {
     "data": {
      "text/html": [
       "<div>\n",
       "<style scoped>\n",
       "    .dataframe tbody tr th:only-of-type {\n",
       "        vertical-align: middle;\n",
       "    }\n",
       "\n",
       "    .dataframe tbody tr th {\n",
       "        vertical-align: top;\n",
       "    }\n",
       "\n",
       "    .dataframe thead th {\n",
       "        text-align: right;\n",
       "    }\n",
       "</style>\n",
       "<table border=\"1\" class=\"dataframe\">\n",
       "  <thead>\n",
       "    <tr style=\"text-align: right;\">\n",
       "      <th></th>\n",
       "      <th>NOC</th>\n",
       "      <th>name</th>\n",
       "      <th>born_region</th>\n",
       "      <th>height_cm</th>\n",
       "      <th>born_country</th>\n",
       "    </tr>\n",
       "  </thead>\n",
       "  <tbody>\n",
       "    <tr>\n",
       "      <th>5781</th>\n",
       "      <td>United States</td>\n",
       "      <td>Tommy Burleson</td>\n",
       "      <td>North Carolina</td>\n",
       "      <td>223.0</td>\n",
       "      <td>USA</td>\n",
       "    </tr>\n",
       "    <tr>\n",
       "      <th>6722</th>\n",
       "      <td>United States</td>\n",
       "      <td>Shaquille O'Neal</td>\n",
       "      <td>New Jersey</td>\n",
       "      <td>216.0</td>\n",
       "      <td>USA</td>\n",
       "    </tr>\n",
       "    <tr>\n",
       "      <th>6937</th>\n",
       "      <td>United States</td>\n",
       "      <td>David Robinson</td>\n",
       "      <td>Florida</td>\n",
       "      <td>216.0</td>\n",
       "      <td>USA</td>\n",
       "    </tr>\n",
       "    <tr>\n",
       "      <th>123850</th>\n",
       "      <td>United States</td>\n",
       "      <td>Tyson Chandler</td>\n",
       "      <td>California</td>\n",
       "      <td>216.0</td>\n",
       "      <td>USA</td>\n",
       "    </tr>\n",
       "  </tbody>\n",
       "</table>\n",
       "</div>"
      ],
      "text/plain": [
       "                  NOC              name     born_region  height_cm  \\\n",
       "5781    United States    Tommy Burleson  North Carolina      223.0   \n",
       "6722    United States  Shaquille O'Neal      New Jersey      216.0   \n",
       "6937    United States    David Robinson         Florida      216.0   \n",
       "123850  United States    Tyson Chandler      California      216.0   \n",
       "\n",
       "       born_country  \n",
       "5781            USA  \n",
       "6722            USA  \n",
       "6937            USA  \n",
       "123850          USA  "
      ]
     },
     "execution_count": 199,
     "metadata": {},
     "output_type": "execute_result"
    }
   ],
   "source": [
    "## Filtering Operations\n",
    "rowPts = (bios['height_cm'] > 215) & (bios['born_country']=='USA')\n",
    "cols_to_keep =  [\"NOC\", \"name\", \"born_region\",\"height_cm\",\"born_country\"]\n",
    "filtered_df = bios.loc[rowPts, cols_to_keep]\n",
    "filtered_df = bios[rowPts][cols_to_keep] # this is equivelent to the previos line\n",
    "sorted_filtered_df = filtered_df.sort_values(\"height_cm\", ascending=False)\n",
    "sorted_filtered_df.head()\n",
    "\n"
   ]
  },
  {
   "cell_type": "code",
   "execution_count": null,
   "id": "cab9edac",
   "metadata": {},
   "outputs": [
    {
     "data": {
      "text/html": [
       "<div>\n",
       "<style scoped>\n",
       "    .dataframe tbody tr th:only-of-type {\n",
       "        vertical-align: middle;\n",
       "    }\n",
       "\n",
       "    .dataframe tbody tr th {\n",
       "        vertical-align: top;\n",
       "    }\n",
       "\n",
       "    .dataframe thead th {\n",
       "        text-align: right;\n",
       "    }\n",
       "</style>\n",
       "<table border=\"1\" class=\"dataframe\">\n",
       "  <thead>\n",
       "    <tr style=\"text-align: right;\">\n",
       "      <th></th>\n",
       "      <th>athlete_id</th>\n",
       "      <th>name</th>\n",
       "      <th>born_date</th>\n",
       "      <th>born_city</th>\n",
       "      <th>born_region</th>\n",
       "      <th>born_country</th>\n",
       "      <th>NOC</th>\n",
       "      <th>height_cm</th>\n",
       "      <th>weight_kg</th>\n",
       "      <th>died_date</th>\n",
       "    </tr>\n",
       "  </thead>\n",
       "  <tbody>\n",
       "    <tr>\n",
       "      <th>2200</th>\n",
       "      <td>2210</td>\n",
       "      <td>Trena King</td>\n",
       "      <td>1958-01-17</td>\n",
       "      <td>Kingwood</td>\n",
       "      <td>West Virginia</td>\n",
       "      <td>USA</td>\n",
       "      <td>United States</td>\n",
       "      <td>172.0</td>\n",
       "      <td>68.0</td>\n",
       "      <td>NaN</td>\n",
       "    </tr>\n",
       "  </tbody>\n",
       "</table>\n",
       "</div>"
      ],
      "text/plain": [
       "      athlete_id        name   born_date born_city    born_region  \\\n",
       "2200        2210  Trena King  1958-01-17  Kingwood  West Virginia   \n",
       "\n",
       "     born_country            NOC  height_cm  weight_kg died_date  \n",
       "2200          USA  United States      172.0       68.0       NaN  "
      ]
     },
     "execution_count": 205,
     "metadata": {},
     "output_type": "execute_result"
    }
   ],
   "source": [
    "## Filter with string operations\n",
    "name_pts = bios['name'].str.contains(r're[nw]', case=False)\n",
    "country_pts = bios['born_country'].isin(['USA', 'FRA'])\n",
    "notNanPts = ~bios['height_cm'].isna()\n",
    "bios[name_pts & notNanPts & country_pts][cols_to_keep]\n",
    "\n",
    "# Filter using complex Query \n",
    "# Would need to learn this way more...\n",
    "bios.query('name == \"Trena King\"')"
   ]
  },
  {
   "cell_type": "code",
   "execution_count": null,
   "id": "b551df12",
   "metadata": {},
   "outputs": [],
   "source": []
  }
 ],
 "metadata": {
  "kernelspec": {
   "display_name": "Python 3",
   "language": "python",
   "name": "python3"
  },
  "language_info": {
   "codemirror_mode": {
    "name": "ipython",
    "version": 3
   },
   "file_extension": ".py",
   "mimetype": "text/x-python",
   "name": "python",
   "nbconvert_exporter": "python",
   "pygments_lexer": "ipython3",
   "version": "3.13.6"
  }
 },
 "nbformat": 4,
 "nbformat_minor": 5
}
